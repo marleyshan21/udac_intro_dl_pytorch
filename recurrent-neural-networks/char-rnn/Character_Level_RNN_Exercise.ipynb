{
 "cells": [
  {
   "cell_type": "markdown",
   "metadata": {},
   "source": [
    "# Character-Level LSTM in PyTorch\n",
    "\n",
    "In this notebook, I'll construct a character-level LSTM with PyTorch. The network will train character by character on some text, then generate new text character by character. As an example, I will train on Anna Karenina. **This model will be able to generate new text based on the text from the book!**\n",
    "\n",
    "This network is based off of Andrej Karpathy's [post on RNNs](http://karpathy.github.io/2015/05/21/rnn-effectiveness/) and [implementation in Torch](https://github.com/karpathy/char-rnn). Below is the general architecture of the character-wise RNN.\n",
    "\n",
    "<img src=\"assets/charseq.jpeg\" width=\"500\">"
   ]
  },
  {
   "cell_type": "markdown",
   "metadata": {},
   "source": [
    "First let's load in our required resources for data loading and model creation."
   ]
  },
  {
   "cell_type": "code",
   "execution_count": 1,
   "metadata": {},
   "outputs": [],
   "source": [
    "import numpy as np\n",
    "import torch\n",
    "from torch import nn\n",
    "import torch.nn.functional as F"
   ]
  },
  {
   "cell_type": "markdown",
   "metadata": {},
   "source": [
    "## Load in Data\n",
    "\n",
    "Then, we'll load the Anna Karenina text file and convert it into integers for our network to use. "
   ]
  },
  {
   "cell_type": "code",
   "execution_count": 2,
   "metadata": {},
   "outputs": [],
   "source": [
    "# open text file and read in data as `text`\n",
    "with open('data/anna.txt', 'r') as f:\n",
    "    text = f.read()"
   ]
  },
  {
   "cell_type": "markdown",
   "metadata": {},
   "source": [
    "Let's check out the first 100 characters, make sure everything is peachy. According to the [American Book Review](http://americanbookreview.org/100bestlines.asp), this is the 6th best first line of a book ever."
   ]
  },
  {
   "cell_type": "code",
   "execution_count": 3,
   "metadata": {},
   "outputs": [
    {
     "data": {
      "text/plain": [
       "'Chapter 1\\n\\n\\nHappy families are all alike; every unhappy family is unhappy in its own\\nway.\\n\\nEverythin'"
      ]
     },
     "execution_count": 3,
     "metadata": {},
     "output_type": "execute_result"
    }
   ],
   "source": [
    "text[:100]"
   ]
  },
  {
   "cell_type": "markdown",
   "metadata": {},
   "source": [
    "### Tokenization\n",
    "\n",
    "In the cells, below, I'm creating a couple **dictionaries** to convert the characters to and from integers. Encoding the characters as integers makes it easier to use as input in the network."
   ]
  },
  {
   "cell_type": "code",
   "execution_count": 4,
   "metadata": {},
   "outputs": [],
   "source": [
    "# encode the text and map each character to an integer and vice versa\n",
    "\n",
    "# we create two dictionaries:\n",
    "# 1. int2char, which maps integers to characters\n",
    "# 2. char2int, which maps characters to unique integers\n",
    "chars = tuple(set(text))  #reads all the chars and puts them in a set and removes duplicates\n",
    "int2char = dict(enumerate(chars)) #maps each character to an integer\n",
    "char2int = {ch: ii for ii, ch in int2char.items()} \n",
    "\n",
    "# encode the text\n",
    "encoded = np.array([char2int[ch] for ch in text])"
   ]
  },
  {
   "cell_type": "markdown",
   "metadata": {},
   "source": [
    "And we can see those same characters from above, encoded as integers."
   ]
  },
  {
   "cell_type": "code",
   "execution_count": 5,
   "metadata": {},
   "outputs": [
    {
     "data": {
      "text/plain": [
       "array([49, 72, 82, 14,  7, 37, 53, 29, 47, 61, 61, 61, 25, 82, 14, 14, 19,\n",
       "       29, 32, 82, 44, 63,  1, 63, 37,  0, 29, 82, 53, 37, 29, 82,  1,  1,\n",
       "       29, 82,  1, 63, 20, 37,  2, 29, 37,  8, 37, 53, 19, 29, 57, 75, 72,\n",
       "       82, 14, 14, 19, 29, 32, 82, 44, 63,  1, 19, 29, 63,  0, 29, 57, 75,\n",
       "       72, 82, 14, 14, 19, 29, 63, 75, 29, 63,  7,  0, 29, 33, 24, 75, 61,\n",
       "       24, 82, 19, 54, 61, 61, 79,  8, 37, 53, 19,  7, 72, 63, 75])"
      ]
     },
     "execution_count": 5,
     "metadata": {},
     "output_type": "execute_result"
    }
   ],
   "source": [
    "encoded[:100]"
   ]
  },
  {
   "cell_type": "markdown",
   "metadata": {},
   "source": [
    "## Pre-processing the data\n",
    "\n",
    "As you can see in our char-RNN image above, our LSTM expects an input that is **one-hot encoded** meaning that each character is converted into an integer (via our created dictionary) and *then* converted into a column vector where only it's corresponding integer index will have the value of 1 and the rest of the vector will be filled with 0's. Since we're one-hot encoding the data, let's make a function to do that!\n"
   ]
  },
  {
   "cell_type": "code",
   "execution_count": 6,
   "metadata": {},
   "outputs": [],
   "source": [
    "def one_hot_encode(arr, n_labels):\n",
    "    \n",
    "    # Initialize the encoded array\n",
    "    one_hot = np.zeros((arr.size, n_labels), dtype=np.float32)\n",
    "    \n",
    "    # Fill the appropriate elements with ones\n",
    "    one_hot[np.arange(one_hot.shape[0]), arr.flatten()] = 1.\n",
    "    \n",
    "    # Finally reshape it to get back to the original array\n",
    "    one_hot = one_hot.reshape((*arr.shape, n_labels))\n",
    "    \n",
    "    return one_hot"
   ]
  },
  {
   "cell_type": "code",
   "execution_count": 9,
   "metadata": {},
   "outputs": [
    {
     "name": "stdout",
     "output_type": "stream",
     "text": [
      "[[[0. 0. 0. 1. 0.]\n",
      "  [0. 0. 1. 0. 0.]\n",
      "  [0. 1. 0. 0. 0.]]]\n"
     ]
    }
   ],
   "source": [
    "# check that the function works as expected\n",
    "test_seq = np.array([[3, 2, 1]])\n",
    "one_hot = one_hot_encode(test_seq, 5)\n",
    "\n",
    "print(one_hot)"
   ]
  },
  {
   "cell_type": "markdown",
   "metadata": {},
   "source": [
    "## Making training mini-batches\n",
    "\n",
    "\n",
    "To train on this data, we also want to create mini-batches for training. Remember that we want our batches to be multiple sequences of some desired number of sequence steps. Considering a simple example, our batches would look like this:\n",
    "\n",
    "<img src=\"assets/sequence_batching@1x.png\" width=500px>\n",
    "\n",
    "\n",
    "<br>\n",
    "\n",
    "In this example, we'll take the encoded characters (passed in as the `arr` parameter) and split them into multiple sequences, given by `batch_size`. Each of our sequences will be `seq_length` long.\n",
    "\n",
    "### Creating Batches\n",
    "\n",
    "**1. The first thing we need to do is discard some of the text so we only have completely full mini-batches. **\n",
    "\n",
    "Each batch contains $N \\times M$ characters, where $N$ is the batch size (the number of sequences in a batch) and $M$ is the seq_length or number of time steps in a sequence. Then, to get the total number of batches, $K$, that we can make from the array `arr`, you divide the length of `arr` by the number of characters per batch. Once you know the number of batches, you can get the total number of characters to keep from `arr`, $N * M * K$.\n",
    "\n",
    "**2. After that, we need to split `arr` into $N$ batches. ** \n",
    "\n",
    "You can do this using `arr.reshape(size)` where `size` is a tuple containing the dimensions sizes of the reshaped array. We know we want $N$ sequences in a batch, so let's make that the size of the first dimension. For the second dimension, you can use `-1` as a placeholder in the size, it'll fill up the array with the appropriate data for you. After this, you should have an array that is $N \\times (M * K)$.\n",
    "\n",
    "**3. Now that we have this array, we can iterate through it to get our mini-batches. **\n",
    "\n",
    "The idea is each batch is a $N \\times M$ window on the $N \\times (M * K)$ array. For each subsequent batch, the window moves over by `seq_length`. We also want to create both the input and target arrays. Remember that the targets are just the inputs shifted over by one character. The way I like to do this window is use `range` to take steps of size `n_steps` from $0$ to `arr.shape[1]`, the total number of tokens in each sequence. That way, the integers you get from `range` always point to the start of a batch, and each window is `seq_length` wide.\n",
    "\n",
    "> **TODO:** Write the code for creating batches in the function below. The exercises in this notebook _will not be easy_. I've provided a notebook with solutions alongside this notebook. If you get stuck, checkout the solutions. The most important thing is that you don't copy and paste the code into here, **type out the solution code yourself.**"
   ]
  },
  {
   "cell_type": "code",
   "execution_count": 10,
   "metadata": {},
   "outputs": [],
   "source": [
    "def get_batches(arr, batch_size, seq_length):\n",
    "    '''Create a generator that returns batches of size\n",
    "       batch_size x seq_length from arr.\n",
    "       \n",
    "       Arguments\n",
    "       ---------\n",
    "       arr: Array you want to make batches from\n",
    "       batch_size: Batch size, the number of sequences per batch\n",
    "       seq_length: Number of encoded chars in a sequence\n",
    "    '''\n",
    "    \n",
    "    ## TODO: Get the number of batches we can make\n",
    "    n_batches = len(arr)//(batch_size*seq_length)\n",
    "    \n",
    "    ## TODO: Keep only enough characters to make full batches\n",
    "    arr = arr[:n_batches*batch_size*seq_length]\n",
    "    \n",
    "    ## TODO: Reshape into batch_size rows\n",
    "    arr = arr.reshape((batch_size, -1))\n",
    "    \n",
    "    ## TODO: Iterate over the batches using a window of size seq_length\n",
    "    for n in range(0, arr.shape[1], seq_length):\n",
    "        # The features\n",
    "        x = arr[:, n:n+seq_length]\n",
    "        # The targets, shifted by one\n",
    "        y = np.zeros_like(x)\n",
    "        try:\n",
    "            y[:, :-1], y[:, -1] = x[:, 1:], arr[:, n+seq_length]\n",
    "        except IndexError:\n",
    "            y[:, :-1], y[:, -1] = x[:, 1:], arr[:, 0]\n",
    "        yield x, y\n",
    "        "
   ]
  },
  {
   "cell_type": "markdown",
   "metadata": {},
   "source": [
    "### Test Your Implementation\n",
    "\n",
    "Now I'll make some data sets and we can check out what's going on as we batch data. Here, as an example, I'm going to use a batch size of 8 and 50 sequence steps."
   ]
  },
  {
   "cell_type": "code",
   "execution_count": 11,
   "metadata": {},
   "outputs": [],
   "source": [
    "batches = get_batches(encoded, 8, 50)\n",
    "x, y = next(batches)"
   ]
  },
  {
   "cell_type": "code",
   "execution_count": 12,
   "metadata": {},
   "outputs": [
    {
     "name": "stdout",
     "output_type": "stream",
     "text": [
      "x\n",
      " [[49 72 82 14  7 37 53 29 47 61]\n",
      " [ 0 33 75 29  7 72 82  7 29 82]\n",
      " [37 75 41 29 33 53 29 82 29 32]\n",
      " [ 0 29  7 72 37 29 27 72 63 37]\n",
      " [29  0 82 24 29 72 37 53 29  7]\n",
      " [27 57  0  0 63 33 75 29 82 75]\n",
      " [29  9 75 75 82 29 72 82 41 29]\n",
      " [21 34  1 33 75  0 20 19 54 29]]\n",
      "\n",
      "y\n",
      " [[72 82 14  7 37 53 29 47 61 61]\n",
      " [33 75 29  7 72 82  7 29 82  7]\n",
      " [75 41 29 33 53 29 82 29 32 33]\n",
      " [29  7 72 37 29 27 72 63 37 32]\n",
      " [ 0 82 24 29 72 37 53 29  7 37]\n",
      " [57  0  0 63 33 75 29 82 75 41]\n",
      " [ 9 75 75 82 29 72 82 41 29  0]\n",
      " [34  1 33 75  0 20 19 54 29 28]]\n"
     ]
    }
   ],
   "source": [
    "# printing out the first 10 items in a sequence\n",
    "print('x\\n', x[:10, :10])\n",
    "print('\\ny\\n', y[:10, :10])"
   ]
  },
  {
   "cell_type": "markdown",
   "metadata": {},
   "source": [
    "If you implemented `get_batches` correctly, the above output should look something like \n",
    "```\n",
    "x\n",
    " [[25  8 60 11 45 27 28 73  1  2]\n",
    " [17  7 20 73 45  8 60 45 73 60]\n",
    " [27 20 80 73  7 28 73 60 73 65]\n",
    " [17 73 45  8 27 73 66  8 46 27]\n",
    " [73 17 60 12 73  8 27 28 73 45]\n",
    " [66 64 17 17 46  7 20 73 60 20]\n",
    " [73 76 20 20 60 73  8 60 80 73]\n",
    " [47 35 43  7 20 17 24 50 37 73]]\n",
    "\n",
    "y\n",
    " [[ 8 60 11 45 27 28 73  1  2  2]\n",
    " [ 7 20 73 45  8 60 45 73 60 45]\n",
    " [20 80 73  7 28 73 60 73 65  7]\n",
    " [73 45  8 27 73 66  8 46 27 65]\n",
    " [17 60 12 73  8 27 28 73 45 27]\n",
    " [64 17 17 46  7 20 73 60 20 80]\n",
    " [76 20 20 60 73  8 60 80 73 17]\n",
    " [35 43  7 20 17 24 50 37 73 36]]\n",
    " ```\n",
    " although the exact numbers may be different. Check to make sure the data is shifted over one step for `y`."
   ]
  },
  {
   "cell_type": "markdown",
   "metadata": {},
   "source": [
    "---\n",
    "## Defining the network with PyTorch\n",
    "\n",
    "Below is where you'll define the network.\n",
    "\n",
    "<img src=\"assets/charRNN.png\" width=500px>\n",
    "\n",
    "Next, you'll use PyTorch to define the architecture of the network. We start by defining the layers and operations we want. Then, define a method for the forward pass. You've also been given a method for predicting characters."
   ]
  },
  {
   "cell_type": "markdown",
   "metadata": {},
   "source": [
    "### Model Structure\n",
    "\n",
    "In `__init__` the suggested structure is as follows:\n",
    "* Create and store the necessary dictionaries (this has been done for you)\n",
    "* Define an LSTM layer that takes as params: an input size (the number of characters), a hidden layer size `n_hidden`, a number of layers `n_layers`, a dropout probability `drop_prob`, and a batch_first boolean (True, since we are batching)\n",
    "* Define a dropout layer with `drop_prob`\n",
    "* Define a fully-connected layer with params: input size `n_hidden` and output size (the number of characters)\n",
    "* Finally, initialize the weights (again, this has been given)\n",
    "\n",
    "Note that some parameters have been named and given in the `__init__` function, and we use them and store them by doing something like `self.drop_prob = drop_prob`."
   ]
  },
  {
   "cell_type": "markdown",
   "metadata": {},
   "source": [
    "---\n",
    "### LSTM Inputs/Outputs\n",
    "\n",
    "You can create a basic [LSTM layer](https://pytorch.org/docs/stable/nn.html#lstm) as follows\n",
    "\n",
    "```python\n",
    "self.lstm = nn.LSTM(input_size, n_hidden, n_layers, \n",
    "                            dropout=drop_prob, batch_first=True)\n",
    "```\n",
    "\n",
    "where `input_size` is the number of characters this cell expects to see as sequential input, and `n_hidden` is the number of units in the hidden layers in the cell. And we can add dropout by adding a dropout parameter with a specified probability; this will automatically add dropout to the inputs or outputs. Finally, in the `forward` function, we can stack up the LSTM cells into layers using `.view`. With this, you pass in a list of cells and it will send the output of one cell into the next cell.\n",
    "\n",
    "We also need to create an initial hidden state of all zeros. This is done like so\n",
    "\n",
    "```python\n",
    "self.init_hidden()\n",
    "```"
   ]
  },
  {
   "cell_type": "code",
   "execution_count": 13,
   "metadata": {},
   "outputs": [
    {
     "name": "stdout",
     "output_type": "stream",
     "text": [
      "Training on GPU!\n"
     ]
    }
   ],
   "source": [
    "# check if GPU is available\n",
    "train_on_gpu = torch.cuda.is_available()\n",
    "if(train_on_gpu):\n",
    "    print('Training on GPU!')\n",
    "else: \n",
    "    print('No GPU available, training on CPU; consider making n_epochs very small.')"
   ]
  },
  {
   "cell_type": "code",
   "execution_count": 14,
   "metadata": {},
   "outputs": [],
   "source": [
    "class CharRNN(nn.Module):\n",
    "    \n",
    "    def __init__(self, tokens, n_hidden=256, n_layers=2,\n",
    "                               drop_prob=0.5, lr=0.001):\n",
    "        super().__init__()\n",
    "        self.drop_prob = drop_prob\n",
    "        self.n_layers = n_layers\n",
    "        self.n_hidden = n_hidden\n",
    "        self.lr = lr\n",
    "        \n",
    "        # creating character dictionaries\n",
    "        self.chars = tokens\n",
    "        self.int2char = dict(enumerate(self.chars))\n",
    "        self.char2int = {ch: ii for ii, ch in self.int2char.items()}\n",
    "        \n",
    "        ## TODO: define the layers of the model\n",
    "      \n",
    "        self.lstm = nn.LSTM(len(self.chars), n_hidden, n_layers, \n",
    "                            dropout=drop_prob, batch_first=True)\n",
    "        \n",
    "        ## TODO: define a dropout layer\n",
    "        self.dropout = nn.Dropout(drop_prob)\n",
    "        \n",
    "        ## TODO: define the final, fully-connected output layer\n",
    "        self.fc = nn.Linear(n_hidden, len(self.chars))\n",
    "    \n",
    "    def forward(self, x, hidden):\n",
    "        ''' Forward pass through the network. \n",
    "            These inputs are x, and the hidden/cell state `hidden`. '''\n",
    "                \n",
    "        \n",
    "         ## TODO: Get the outputs and the new hidden state from the lstm\n",
    "        r_output, hidden = self.lstm(x, hidden)\n",
    "        \n",
    "        ## TODO: pass through a dropout layer\n",
    "        out = self.dropout(r_output)\n",
    "        \n",
    "        # Stack up LSTM outputs using view\n",
    "        # you may need to use contiguous to reshape the output\n",
    "        out = out.contiguous().view(-1, self.n_hidden)\n",
    "        \n",
    "        ## TODO: put x through the fully-connected layer\n",
    "        out = self.fc(out)\n",
    "        \n",
    "           \n",
    "        # return the final output and the hidden state\n",
    "        return out, hidden\n",
    "    \n",
    "    \n",
    "    def init_hidden(self, batch_size):\n",
    "        ''' Initializes hidden state '''\n",
    "        # Create two new tensors with sizes n_layers x batch_size x n_hidden,\n",
    "        # initialized to zero, for hidden state and cell state of LSTM\n",
    "        weight = next(self.parameters()).data\n",
    "        \n",
    "        if (train_on_gpu):\n",
    "            hidden = (weight.new(self.n_layers, batch_size, self.n_hidden).zero_().cuda(),\n",
    "                  weight.new(self.n_layers, batch_size, self.n_hidden).zero_().cuda())\n",
    "        else:\n",
    "            hidden = (weight.new(self.n_layers, batch_size, self.n_hidden).zero_(),\n",
    "                      weight.new(self.n_layers, batch_size, self.n_hidden).zero_())\n",
    "        \n",
    "        return hidden\n",
    "        "
   ]
  },
  {
   "cell_type": "markdown",
   "metadata": {},
   "source": [
    "## Time to train\n",
    "\n",
    "The train function gives us the ability to set the number of epochs, the learning rate, and other parameters.\n",
    "\n",
    "Below we're using an Adam optimizer and cross entropy loss since we are looking at character class scores as output. We calculate the loss and perform backpropagation, as usual!\n",
    "\n",
    "A couple of details about training: \n",
    ">* Within the batch loop, we detach the hidden state from its history; this time setting it equal to a new *tuple* variable because an LSTM has a hidden state that is a tuple of the hidden and cell states.\n",
    "* We use [`clip_grad_norm_`](https://pytorch.org/docs/stable/_modules/torch/nn/utils/clip_grad.html) to help prevent exploding gradients."
   ]
  },
  {
   "cell_type": "code",
   "execution_count": 15,
   "metadata": {},
   "outputs": [],
   "source": [
    "def train(net, data, epochs=10, batch_size=10, seq_length=50, lr=0.001, clip=5, val_frac=0.1, print_every=10):\n",
    "    ''' Training a network \n",
    "    \n",
    "        Arguments\n",
    "        ---------\n",
    "        \n",
    "        net: CharRNN network\n",
    "        data: text data to train the network\n",
    "        epochs: Number of epochs to train\n",
    "        batch_size: Number of mini-sequences per mini-batch, aka batch size\n",
    "        seq_length: Number of character steps per mini-batch\n",
    "        lr: learning rate\n",
    "        clip: gradient clipping\n",
    "        val_frac: Fraction of data to hold out for validation\n",
    "        print_every: Number of steps for printing training and validation loss\n",
    "    \n",
    "    '''\n",
    "    net.train()\n",
    "    \n",
    "    opt = torch.optim.Adam(net.parameters(), lr=lr)\n",
    "    criterion = nn.CrossEntropyLoss()\n",
    "    \n",
    "    # create training and validation data\n",
    "    val_idx = int(len(data)*(1-val_frac))\n",
    "    data, val_data = data[:val_idx], data[val_idx:]\n",
    "    \n",
    "    if(train_on_gpu):\n",
    "        net.cuda()\n",
    "    \n",
    "    counter = 0\n",
    "    n_chars = len(net.chars)\n",
    "    for e in range(epochs):\n",
    "        # initialize hidden state\n",
    "        h = net.init_hidden(batch_size)\n",
    "        \n",
    "        for x, y in get_batches(data, batch_size, seq_length):\n",
    "            counter += 1\n",
    "            \n",
    "            # One-hot encode our data and make them Torch tensors\n",
    "            x = one_hot_encode(x, n_chars)\n",
    "            inputs, targets = torch.from_numpy(x), torch.from_numpy(y)\n",
    "            \n",
    "            if(train_on_gpu):\n",
    "                inputs, targets = inputs.cuda(), targets.cuda()\n",
    "\n",
    "            # Creating new variables for the hidden state, otherwise\n",
    "            # we'd backprop through the entire training history\n",
    "            h = tuple([each.data for each in h])\n",
    "\n",
    "            # zero accumulated gradients\n",
    "            net.zero_grad()\n",
    "            \n",
    "            # get the output from the model\n",
    "            output, h = net(inputs, h)\n",
    "            \n",
    "            # calculate the loss and perform backprop\n",
    "            loss = criterion(output, targets.view(batch_size*seq_length).long())\n",
    "            loss.backward()\n",
    "            # `clip_grad_norm` helps prevent the exploding gradient problem in RNNs / LSTMs.\n",
    "            nn.utils.clip_grad_norm_(net.parameters(), clip)\n",
    "            opt.step()\n",
    "            \n",
    "            # loss stats\n",
    "            if counter % print_every == 0:\n",
    "                # Get validation loss\n",
    "                val_h = net.init_hidden(batch_size)\n",
    "                val_losses = []\n",
    "                net.eval()\n",
    "                for x, y in get_batches(val_data, batch_size, seq_length):\n",
    "                    # One-hot encode our data and make them Torch tensors\n",
    "                    x = one_hot_encode(x, n_chars)\n",
    "                    x, y = torch.from_numpy(x), torch.from_numpy(y)\n",
    "                    \n",
    "                    # Creating new variables for the hidden state, otherwise\n",
    "                    # we'd backprop through the entire training history\n",
    "                    val_h = tuple([each.data for each in val_h])\n",
    "                    \n",
    "                    inputs, targets = x, y\n",
    "                    if(train_on_gpu):\n",
    "                        inputs, targets = inputs.cuda(), targets.cuda()\n",
    "\n",
    "                    output, val_h = net(inputs, val_h)\n",
    "                    val_loss = criterion(output, targets.view(batch_size*seq_length).long())\n",
    "                \n",
    "                    val_losses.append(val_loss.item())\n",
    "                \n",
    "                net.train() # reset to train mode after iterationg through validation data\n",
    "                \n",
    "                print(\"Epoch: {}/{}...\".format(e+1, epochs),\n",
    "                      \"Step: {}...\".format(counter),\n",
    "                      \"Loss: {:.4f}...\".format(loss.item()),\n",
    "                      \"Val Loss: {:.4f}\".format(np.mean(val_losses)))"
   ]
  },
  {
   "cell_type": "markdown",
   "metadata": {},
   "source": [
    "## Instantiating the model\n",
    "\n",
    "Now we can actually train the network. First we'll create the network itself, with some given hyperparameters. Then, define the mini-batches sizes, and start training!"
   ]
  },
  {
   "cell_type": "code",
   "execution_count": 16,
   "metadata": {},
   "outputs": [
    {
     "name": "stdout",
     "output_type": "stream",
     "text": [
      "CharRNN(\n",
      "  (lstm): LSTM(83, 256, num_layers=2, batch_first=True, dropout=0.5)\n",
      "  (dropout): Dropout(p=0.5, inplace=False)\n",
      "  (fc): Linear(in_features=256, out_features=83, bias=True)\n",
      ")\n"
     ]
    }
   ],
   "source": [
    "## TODO: set your model hyperparameters\n",
    "# define and print the net\n",
    "n_hidden=256\n",
    "n_layers=2\n",
    "\n",
    "net = CharRNN(chars, n_hidden, n_layers)\n",
    "print(net)"
   ]
  },
  {
   "cell_type": "markdown",
   "metadata": {},
   "source": [
    "### Set your training hyperparameters!"
   ]
  },
  {
   "cell_type": "code",
   "execution_count": 17,
   "metadata": {
    "scrolled": true
   },
   "outputs": [
    {
     "name": "stdout",
     "output_type": "stream",
     "text": [
      "Epoch: 1/20... Step: 10... Loss: 3.2861... Val Loss: 3.1895\n",
      "Epoch: 1/20... Step: 20... Loss: 3.1669... Val Loss: 3.1301\n",
      "Epoch: 1/20... Step: 30... Loss: 3.1621... Val Loss: 3.1244\n",
      "Epoch: 1/20... Step: 40... Loss: 3.1324... Val Loss: 3.1220\n",
      "Epoch: 1/20... Step: 50... Loss: 3.1522... Val Loss: 3.1200\n",
      "Epoch: 1/20... Step: 60... Loss: 3.1274... Val Loss: 3.1183\n",
      "Epoch: 1/20... Step: 70... Loss: 3.1204... Val Loss: 3.1173\n",
      "Epoch: 1/20... Step: 80... Loss: 3.1308... Val Loss: 3.1162\n",
      "Epoch: 1/20... Step: 90... Loss: 3.1351... Val Loss: 3.1143\n",
      "Epoch: 1/20... Step: 100... Loss: 3.1199... Val Loss: 3.1119\n",
      "Epoch: 1/20... Step: 110... Loss: 3.1224... Val Loss: 3.1070\n",
      "Epoch: 1/20... Step: 120... Loss: 3.0980... Val Loss: 3.0981\n",
      "Epoch: 1/20... Step: 130... Loss: 3.1013... Val Loss: 3.0838\n",
      "Epoch: 2/20... Step: 140... Loss: 3.0819... Val Loss: 3.0521\n",
      "Epoch: 2/20... Step: 150... Loss: 3.0435... Val Loss: 3.0120\n",
      "Epoch: 2/20... Step: 160... Loss: 2.9756... Val Loss: 2.9445\n",
      "Epoch: 2/20... Step: 170... Loss: 2.8894... Val Loss: 2.9021\n",
      "Epoch: 2/20... Step: 180... Loss: 2.8531... Val Loss: 2.8222\n",
      "Epoch: 2/20... Step: 190... Loss: 2.7846... Val Loss: 2.7516\n",
      "Epoch: 2/20... Step: 200... Loss: 2.7462... Val Loss: 2.6910\n",
      "Epoch: 2/20... Step: 210... Loss: 2.6908... Val Loss: 2.6384\n",
      "Epoch: 2/20... Step: 220... Loss: 2.6567... Val Loss: 2.5983\n",
      "Epoch: 2/20... Step: 230... Loss: 2.6286... Val Loss: 2.5696\n",
      "Epoch: 2/20... Step: 240... Loss: 2.5985... Val Loss: 2.5387\n",
      "Epoch: 2/20... Step: 250... Loss: 2.5521... Val Loss: 2.5180\n",
      "Epoch: 2/20... Step: 260... Loss: 2.5382... Val Loss: 2.4950\n",
      "Epoch: 2/20... Step: 270... Loss: 2.5285... Val Loss: 2.4741\n",
      "Epoch: 3/20... Step: 280... Loss: 2.5186... Val Loss: 2.4590\n",
      "Epoch: 3/20... Step: 290... Loss: 2.4943... Val Loss: 2.4442\n",
      "Epoch: 3/20... Step: 300... Loss: 2.4937... Val Loss: 2.4181\n",
      "Epoch: 3/20... Step: 310... Loss: 2.4751... Val Loss: 2.4045\n",
      "Epoch: 3/20... Step: 320... Loss: 2.4620... Val Loss: 2.3939\n",
      "Epoch: 3/20... Step: 330... Loss: 2.4250... Val Loss: 2.3797\n",
      "Epoch: 3/20... Step: 340... Loss: 2.4252... Val Loss: 2.3671\n",
      "Epoch: 3/20... Step: 350... Loss: 2.4414... Val Loss: 2.3563\n",
      "Epoch: 3/20... Step: 360... Loss: 2.3753... Val Loss: 2.3444\n",
      "Epoch: 3/20... Step: 370... Loss: 2.4107... Val Loss: 2.3323\n",
      "Epoch: 3/20... Step: 380... Loss: 2.3725... Val Loss: 2.3256\n",
      "Epoch: 3/20... Step: 390... Loss: 2.3660... Val Loss: 2.3109\n",
      "Epoch: 3/20... Step: 400... Loss: 2.3462... Val Loss: 2.3029\n",
      "Epoch: 3/20... Step: 410... Loss: 2.3496... Val Loss: 2.2976\n",
      "Epoch: 4/20... Step: 420... Loss: 2.3333... Val Loss: 2.2791\n",
      "Epoch: 4/20... Step: 430... Loss: 2.3317... Val Loss: 2.2698\n",
      "Epoch: 4/20... Step: 440... Loss: 2.3155... Val Loss: 2.2609\n",
      "Epoch: 4/20... Step: 450... Loss: 2.2667... Val Loss: 2.2475\n",
      "Epoch: 4/20... Step: 460... Loss: 2.2767... Val Loss: 2.2372\n",
      "Epoch: 4/20... Step: 470... Loss: 2.2794... Val Loss: 2.2292\n",
      "Epoch: 4/20... Step: 480... Loss: 2.2673... Val Loss: 2.2194\n",
      "Epoch: 4/20... Step: 490... Loss: 2.2637... Val Loss: 2.2113\n",
      "Epoch: 4/20... Step: 500... Loss: 2.2650... Val Loss: 2.2028\n",
      "Epoch: 4/20... Step: 510... Loss: 2.2687... Val Loss: 2.1906\n",
      "Epoch: 4/20... Step: 520... Loss: 2.2762... Val Loss: 2.1852\n",
      "Epoch: 4/20... Step: 530... Loss: 2.2226... Val Loss: 2.1766\n",
      "Epoch: 4/20... Step: 540... Loss: 2.1970... Val Loss: 2.1702\n",
      "Epoch: 4/20... Step: 550... Loss: 2.2294... Val Loss: 2.1600\n",
      "Epoch: 5/20... Step: 560... Loss: 2.2017... Val Loss: 2.1516\n",
      "Epoch: 5/20... Step: 570... Loss: 2.1967... Val Loss: 2.1441\n",
      "Epoch: 5/20... Step: 580... Loss: 2.1771... Val Loss: 2.1387\n",
      "Epoch: 5/20... Step: 590... Loss: 2.1821... Val Loss: 2.1291\n",
      "Epoch: 5/20... Step: 600... Loss: 2.1567... Val Loss: 2.1239\n",
      "Epoch: 5/20... Step: 610... Loss: 2.1640... Val Loss: 2.1180\n",
      "Epoch: 5/20... Step: 620... Loss: 2.1498... Val Loss: 2.1142\n",
      "Epoch: 5/20... Step: 630... Loss: 2.1873... Val Loss: 2.0979\n",
      "Epoch: 5/20... Step: 640... Loss: 2.1556... Val Loss: 2.0908\n",
      "Epoch: 5/20... Step: 650... Loss: 2.1393... Val Loss: 2.0851\n",
      "Epoch: 5/20... Step: 660... Loss: 2.1025... Val Loss: 2.0833\n",
      "Epoch: 5/20... Step: 670... Loss: 2.1485... Val Loss: 2.0734\n",
      "Epoch: 5/20... Step: 680... Loss: 2.1415... Val Loss: 2.0660\n",
      "Epoch: 5/20... Step: 690... Loss: 2.1119... Val Loss: 2.0650\n",
      "Epoch: 6/20... Step: 700... Loss: 2.1031... Val Loss: 2.0517\n",
      "Epoch: 6/20... Step: 710... Loss: 2.1080... Val Loss: 2.0447\n",
      "Epoch: 6/20... Step: 720... Loss: 2.0793... Val Loss: 2.0377\n",
      "Epoch: 6/20... Step: 730... Loss: 2.0844... Val Loss: 2.0328\n",
      "Epoch: 6/20... Step: 740... Loss: 2.0774... Val Loss: 2.0271\n",
      "Epoch: 6/20... Step: 750... Loss: 2.0474... Val Loss: 2.0222\n",
      "Epoch: 6/20... Step: 760... Loss: 2.0835... Val Loss: 2.0152\n",
      "Epoch: 6/20... Step: 770... Loss: 2.0662... Val Loss: 2.0073\n",
      "Epoch: 6/20... Step: 780... Loss: 2.0550... Val Loss: 2.0028\n",
      "Epoch: 6/20... Step: 790... Loss: 2.0498... Val Loss: 1.9945\n",
      "Epoch: 6/20... Step: 800... Loss: 2.0374... Val Loss: 1.9906\n",
      "Epoch: 6/20... Step: 810... Loss: 2.0408... Val Loss: 1.9851\n",
      "Epoch: 6/20... Step: 820... Loss: 2.0330... Val Loss: 1.9797\n",
      "Epoch: 6/20... Step: 830... Loss: 2.0619... Val Loss: 1.9730\n",
      "Epoch: 7/20... Step: 840... Loss: 2.0037... Val Loss: 1.9699\n",
      "Epoch: 7/20... Step: 850... Loss: 2.0069... Val Loss: 1.9617\n",
      "Epoch: 7/20... Step: 860... Loss: 2.0090... Val Loss: 1.9561\n",
      "Epoch: 7/20... Step: 870... Loss: 2.0097... Val Loss: 1.9525\n",
      "Epoch: 7/20... Step: 880... Loss: 2.0139... Val Loss: 1.9456\n",
      "Epoch: 7/20... Step: 890... Loss: 1.9981... Val Loss: 1.9441\n",
      "Epoch: 7/20... Step: 900... Loss: 1.9735... Val Loss: 1.9363\n",
      "Epoch: 7/20... Step: 910... Loss: 1.9706... Val Loss: 1.9337\n",
      "Epoch: 7/20... Step: 920... Loss: 1.9803... Val Loss: 1.9292\n",
      "Epoch: 7/20... Step: 930... Loss: 1.9774... Val Loss: 1.9220\n",
      "Epoch: 7/20... Step: 940... Loss: 1.9704... Val Loss: 1.9196\n",
      "Epoch: 7/20... Step: 950... Loss: 1.9808... Val Loss: 1.9143\n",
      "Epoch: 7/20... Step: 960... Loss: 1.9717... Val Loss: 1.9119\n",
      "Epoch: 7/20... Step: 970... Loss: 1.9874... Val Loss: 1.9040\n",
      "Epoch: 8/20... Step: 980... Loss: 1.9570... Val Loss: 1.8993\n",
      "Epoch: 8/20... Step: 990... Loss: 1.9561... Val Loss: 1.8942\n",
      "Epoch: 8/20... Step: 1000... Loss: 1.9449... Val Loss: 1.8874\n",
      "Epoch: 8/20... Step: 1010... Loss: 1.9675... Val Loss: 1.8837\n",
      "Epoch: 8/20... Step: 1020... Loss: 1.9502... Val Loss: 1.8796\n",
      "Epoch: 8/20... Step: 1030... Loss: 1.9292... Val Loss: 1.8758\n",
      "Epoch: 8/20... Step: 1040... Loss: 1.9224... Val Loss: 1.8707\n",
      "Epoch: 8/20... Step: 1050... Loss: 1.9342... Val Loss: 1.8664\n",
      "Epoch: 8/20... Step: 1060... Loss: 1.9313... Val Loss: 1.8620\n",
      "Epoch: 8/20... Step: 1070... Loss: 1.9297... Val Loss: 1.8587\n",
      "Epoch: 8/20... Step: 1080... Loss: 1.9078... Val Loss: 1.8556\n",
      "Epoch: 8/20... Step: 1090... Loss: 1.9107... Val Loss: 1.8547\n",
      "Epoch: 8/20... Step: 1100... Loss: 1.8952... Val Loss: 1.8453\n",
      "Epoch: 8/20... Step: 1110... Loss: 1.9114... Val Loss: 1.8430\n",
      "Epoch: 9/20... Step: 1120... Loss: 1.9190... Val Loss: 1.8407\n",
      "Epoch: 9/20... Step: 1130... Loss: 1.8957... Val Loss: 1.8357\n",
      "Epoch: 9/20... Step: 1140... Loss: 1.9088... Val Loss: 1.8294\n",
      "Epoch: 9/20... Step: 1150... Loss: 1.9069... Val Loss: 1.8268\n",
      "Epoch: 9/20... Step: 1160... Loss: 1.8579... Val Loss: 1.8215\n",
      "Epoch: 9/20... Step: 1170... Loss: 1.8593... Val Loss: 1.8195\n",
      "Epoch: 9/20... Step: 1180... Loss: 1.8760... Val Loss: 1.8154\n",
      "Epoch: 9/20... Step: 1190... Loss: 1.8980... Val Loss: 1.8102\n",
      "Epoch: 9/20... Step: 1200... Loss: 1.8477... Val Loss: 1.8057\n",
      "Epoch: 9/20... Step: 1210... Loss: 1.8627... Val Loss: 1.8043\n",
      "Epoch: 9/20... Step: 1220... Loss: 1.8557... Val Loss: 1.7990\n",
      "Epoch: 9/20... Step: 1230... Loss: 1.8406... Val Loss: 1.8033\n",
      "Epoch: 9/20... Step: 1240... Loss: 1.8445... Val Loss: 1.7912\n",
      "Epoch: 9/20... Step: 1250... Loss: 1.8373... Val Loss: 1.7901\n",
      "Epoch: 10/20... Step: 1260... Loss: 1.8568... Val Loss: 1.7849\n",
      "Epoch: 10/20... Step: 1270... Loss: 1.8478... Val Loss: 1.7862\n",
      "Epoch: 10/20... Step: 1280... Loss: 1.8548... Val Loss: 1.7766\n",
      "Epoch: 10/20... Step: 1290... Loss: 1.8390... Val Loss: 1.7746\n",
      "Epoch: 10/20... Step: 1300... Loss: 1.8321... Val Loss: 1.7745\n",
      "Epoch: 10/20... Step: 1310... Loss: 1.8376... Val Loss: 1.7699\n",
      "Epoch: 10/20... Step: 1320... Loss: 1.8161... Val Loss: 1.7681\n",
      "Epoch: 10/20... Step: 1330... Loss: 1.8152... Val Loss: 1.7607\n",
      "Epoch: 10/20... Step: 1340... Loss: 1.8131... Val Loss: 1.7569\n"
     ]
    },
    {
     "name": "stdout",
     "output_type": "stream",
     "text": [
      "Epoch: 10/20... Step: 1350... Loss: 1.8042... Val Loss: 1.7567\n",
      "Epoch: 10/20... Step: 1360... Loss: 1.8129... Val Loss: 1.7543\n",
      "Epoch: 10/20... Step: 1370... Loss: 1.7844... Val Loss: 1.7493\n",
      "Epoch: 10/20... Step: 1380... Loss: 1.8231... Val Loss: 1.7452\n",
      "Epoch: 10/20... Step: 1390... Loss: 1.8159... Val Loss: 1.7449\n",
      "Epoch: 11/20... Step: 1400... Loss: 1.8250... Val Loss: 1.7372\n",
      "Epoch: 11/20... Step: 1410... Loss: 1.8269... Val Loss: 1.7398\n",
      "Epoch: 11/20... Step: 1420... Loss: 1.8135... Val Loss: 1.7327\n",
      "Epoch: 11/20... Step: 1430... Loss: 1.7787... Val Loss: 1.7302\n",
      "Epoch: 11/20... Step: 1440... Loss: 1.8246... Val Loss: 1.7260\n",
      "Epoch: 11/20... Step: 1450... Loss: 1.7587... Val Loss: 1.7261\n",
      "Epoch: 11/20... Step: 1460... Loss: 1.7763... Val Loss: 1.7225\n",
      "Epoch: 11/20... Step: 1470... Loss: 1.7519... Val Loss: 1.7170\n",
      "Epoch: 11/20... Step: 1480... Loss: 1.7798... Val Loss: 1.7152\n",
      "Epoch: 11/20... Step: 1490... Loss: 1.7760... Val Loss: 1.7135\n",
      "Epoch: 11/20... Step: 1500... Loss: 1.7522... Val Loss: 1.7112\n",
      "Epoch: 11/20... Step: 1510... Loss: 1.7412... Val Loss: 1.7089\n",
      "Epoch: 11/20... Step: 1520... Loss: 1.7858... Val Loss: 1.7026\n",
      "Epoch: 12/20... Step: 1530... Loss: 1.8148... Val Loss: 1.7027\n",
      "Epoch: 12/20... Step: 1540... Loss: 1.7712... Val Loss: 1.6976\n",
      "Epoch: 12/20... Step: 1550... Loss: 1.7885... Val Loss: 1.6956\n",
      "Epoch: 12/20... Step: 1560... Loss: 1.7623... Val Loss: 1.6929\n",
      "Epoch: 12/20... Step: 1570... Loss: 1.7360... Val Loss: 1.6901\n",
      "Epoch: 12/20... Step: 1580... Loss: 1.7021... Val Loss: 1.6843\n",
      "Epoch: 12/20... Step: 1590... Loss: 1.7145... Val Loss: 1.6825\n",
      "Epoch: 12/20... Step: 1600... Loss: 1.7366... Val Loss: 1.6847\n",
      "Epoch: 12/20... Step: 1610... Loss: 1.7269... Val Loss: 1.6791\n",
      "Epoch: 12/20... Step: 1620... Loss: 1.7443... Val Loss: 1.6784\n",
      "Epoch: 12/20... Step: 1630... Loss: 1.7653... Val Loss: 1.6752\n",
      "Epoch: 12/20... Step: 1640... Loss: 1.7144... Val Loss: 1.6748\n",
      "Epoch: 12/20... Step: 1650... Loss: 1.6863... Val Loss: 1.6697\n",
      "Epoch: 12/20... Step: 1660... Loss: 1.7395... Val Loss: 1.6693\n",
      "Epoch: 13/20... Step: 1670... Loss: 1.7322... Val Loss: 1.6668\n",
      "Epoch: 13/20... Step: 1680... Loss: 1.7341... Val Loss: 1.6612\n",
      "Epoch: 13/20... Step: 1690... Loss: 1.7128... Val Loss: 1.6592\n",
      "Epoch: 13/20... Step: 1700... Loss: 1.7138... Val Loss: 1.6557\n",
      "Epoch: 13/20... Step: 1710... Loss: 1.6828... Val Loss: 1.6550\n",
      "Epoch: 13/20... Step: 1720... Loss: 1.6997... Val Loss: 1.6531\n",
      "Epoch: 13/20... Step: 1730... Loss: 1.7353... Val Loss: 1.6484\n",
      "Epoch: 13/20... Step: 1740... Loss: 1.7034... Val Loss: 1.6489\n",
      "Epoch: 13/20... Step: 1750... Loss: 1.6541... Val Loss: 1.6474\n",
      "Epoch: 13/20... Step: 1760... Loss: 1.6953... Val Loss: 1.6431\n",
      "Epoch: 13/20... Step: 1770... Loss: 1.7077... Val Loss: 1.6430\n",
      "Epoch: 13/20... Step: 1780... Loss: 1.6789... Val Loss: 1.6402\n",
      "Epoch: 13/20... Step: 1790... Loss: 1.6663... Val Loss: 1.6370\n",
      "Epoch: 13/20... Step: 1800... Loss: 1.7013... Val Loss: 1.6340\n",
      "Epoch: 14/20... Step: 1810... Loss: 1.6930... Val Loss: 1.6406\n",
      "Epoch: 14/20... Step: 1820... Loss: 1.6883... Val Loss: 1.6320\n",
      "Epoch: 14/20... Step: 1830... Loss: 1.6950... Val Loss: 1.6281\n",
      "Epoch: 14/20... Step: 1840... Loss: 1.6462... Val Loss: 1.6273\n",
      "Epoch: 14/20... Step: 1850... Loss: 1.6293... Val Loss: 1.6254\n",
      "Epoch: 14/20... Step: 1860... Loss: 1.6869... Val Loss: 1.6220\n",
      "Epoch: 14/20... Step: 1870... Loss: 1.6804... Val Loss: 1.6178\n",
      "Epoch: 14/20... Step: 1880... Loss: 1.6894... Val Loss: 1.6166\n",
      "Epoch: 14/20... Step: 1890... Loss: 1.6895... Val Loss: 1.6161\n",
      "Epoch: 14/20... Step: 1900... Loss: 1.6586... Val Loss: 1.6129\n",
      "Epoch: 14/20... Step: 1910... Loss: 1.6883... Val Loss: 1.6117\n",
      "Epoch: 14/20... Step: 1920... Loss: 1.6614... Val Loss: 1.6123\n",
      "Epoch: 14/20... Step: 1930... Loss: 1.6218... Val Loss: 1.6097\n",
      "Epoch: 14/20... Step: 1940... Loss: 1.6912... Val Loss: 1.6076\n",
      "Epoch: 15/20... Step: 1950... Loss: 1.6583... Val Loss: 1.6100\n",
      "Epoch: 15/20... Step: 1960... Loss: 1.6495... Val Loss: 1.6053\n",
      "Epoch: 15/20... Step: 1970... Loss: 1.6451... Val Loss: 1.6032\n",
      "Epoch: 15/20... Step: 1980... Loss: 1.6421... Val Loss: 1.5996\n",
      "Epoch: 15/20... Step: 1990... Loss: 1.6381... Val Loss: 1.6000\n",
      "Epoch: 15/20... Step: 2000... Loss: 1.6287... Val Loss: 1.5964\n",
      "Epoch: 15/20... Step: 2010... Loss: 1.6437... Val Loss: 1.5931\n",
      "Epoch: 15/20... Step: 2020... Loss: 1.6643... Val Loss: 1.5918\n",
      "Epoch: 15/20... Step: 2030... Loss: 1.6368... Val Loss: 1.5899\n",
      "Epoch: 15/20... Step: 2040... Loss: 1.6315... Val Loss: 1.5872\n",
      "Epoch: 15/20... Step: 2050... Loss: 1.6198... Val Loss: 1.5867\n",
      "Epoch: 15/20... Step: 2060... Loss: 1.6533... Val Loss: 1.5877\n",
      "Epoch: 15/20... Step: 2070... Loss: 1.6411... Val Loss: 1.5820\n",
      "Epoch: 15/20... Step: 2080... Loss: 1.6251... Val Loss: 1.5796\n",
      "Epoch: 16/20... Step: 2090... Loss: 1.6274... Val Loss: 1.5873\n",
      "Epoch: 16/20... Step: 2100... Loss: 1.6204... Val Loss: 1.5790\n",
      "Epoch: 16/20... Step: 2110... Loss: 1.6162... Val Loss: 1.5745\n",
      "Epoch: 16/20... Step: 2120... Loss: 1.6248... Val Loss: 1.5735\n",
      "Epoch: 16/20... Step: 2130... Loss: 1.5990... Val Loss: 1.5741\n",
      "Epoch: 16/20... Step: 2140... Loss: 1.5993... Val Loss: 1.5698\n",
      "Epoch: 16/20... Step: 2150... Loss: 1.6267... Val Loss: 1.5712\n",
      "Epoch: 16/20... Step: 2160... Loss: 1.6139... Val Loss: 1.5719\n",
      "Epoch: 16/20... Step: 2170... Loss: 1.6027... Val Loss: 1.5691\n",
      "Epoch: 16/20... Step: 2180... Loss: 1.6008... Val Loss: 1.5637\n",
      "Epoch: 16/20... Step: 2190... Loss: 1.6151... Val Loss: 1.5632\n",
      "Epoch: 16/20... Step: 2200... Loss: 1.5963... Val Loss: 1.5647\n",
      "Epoch: 16/20... Step: 2210... Loss: 1.5790... Val Loss: 1.5629\n",
      "Epoch: 16/20... Step: 2220... Loss: 1.6235... Val Loss: 1.5602\n",
      "Epoch: 17/20... Step: 2230... Loss: 1.5794... Val Loss: 1.5667\n",
      "Epoch: 17/20... Step: 2240... Loss: 1.5990... Val Loss: 1.5585\n",
      "Epoch: 17/20... Step: 2250... Loss: 1.5852... Val Loss: 1.5541\n",
      "Epoch: 17/20... Step: 2260... Loss: 1.5919... Val Loss: 1.5557\n",
      "Epoch: 17/20... Step: 2270... Loss: 1.6002... Val Loss: 1.5530\n",
      "Epoch: 17/20... Step: 2280... Loss: 1.5955... Val Loss: 1.5489\n",
      "Epoch: 17/20... Step: 2290... Loss: 1.5894... Val Loss: 1.5540\n",
      "Epoch: 17/20... Step: 2300... Loss: 1.5584... Val Loss: 1.5536\n",
      "Epoch: 17/20... Step: 2310... Loss: 1.5948... Val Loss: 1.5464\n",
      "Epoch: 17/20... Step: 2320... Loss: 1.5700... Val Loss: 1.5438\n",
      "Epoch: 17/20... Step: 2330... Loss: 1.5799... Val Loss: 1.5434\n",
      "Epoch: 17/20... Step: 2340... Loss: 1.5916... Val Loss: 1.5459\n",
      "Epoch: 17/20... Step: 2350... Loss: 1.5938... Val Loss: 1.5429\n",
      "Epoch: 17/20... Step: 2360... Loss: 1.5933... Val Loss: 1.5409\n",
      "Epoch: 18/20... Step: 2370... Loss: 1.5756... Val Loss: 1.5468\n",
      "Epoch: 18/20... Step: 2380... Loss: 1.5853... Val Loss: 1.5379\n",
      "Epoch: 18/20... Step: 2390... Loss: 1.5672... Val Loss: 1.5340\n",
      "Epoch: 18/20... Step: 2400... Loss: 1.6183... Val Loss: 1.5355\n",
      "Epoch: 18/20... Step: 2410... Loss: 1.5841... Val Loss: 1.5337\n",
      "Epoch: 18/20... Step: 2420... Loss: 1.5701... Val Loss: 1.5320\n",
      "Epoch: 18/20... Step: 2430... Loss: 1.5785... Val Loss: 1.5326\n",
      "Epoch: 18/20... Step: 2440... Loss: 1.5563... Val Loss: 1.5336\n",
      "Epoch: 18/20... Step: 2450... Loss: 1.5630... Val Loss: 1.5290\n",
      "Epoch: 18/20... Step: 2460... Loss: 1.5781... Val Loss: 1.5275\n",
      "Epoch: 18/20... Step: 2470... Loss: 1.5695... Val Loss: 1.5267\n",
      "Epoch: 18/20... Step: 2480... Loss: 1.5563... Val Loss: 1.5261\n",
      "Epoch: 18/20... Step: 2490... Loss: 1.5515... Val Loss: 1.5233\n",
      "Epoch: 18/20... Step: 2500... Loss: 1.5680... Val Loss: 1.5238\n",
      "Epoch: 19/20... Step: 2510... Loss: 1.5706... Val Loss: 1.5260\n",
      "Epoch: 19/20... Step: 2520... Loss: 1.5669... Val Loss: 1.5222\n",
      "Epoch: 19/20... Step: 2530... Loss: 1.5724... Val Loss: 1.5165\n",
      "Epoch: 19/20... Step: 2540... Loss: 1.5850... Val Loss: 1.5196\n",
      "Epoch: 19/20... Step: 2550... Loss: 1.5376... Val Loss: 1.5169\n",
      "Epoch: 19/20... Step: 2560... Loss: 1.5476... Val Loss: 1.5141\n",
      "Epoch: 19/20... Step: 2570... Loss: 1.5480... Val Loss: 1.5128\n",
      "Epoch: 19/20... Step: 2580... Loss: 1.5819... Val Loss: 1.5142\n",
      "Epoch: 19/20... Step: 2590... Loss: 1.5334... Val Loss: 1.5137\n",
      "Epoch: 19/20... Step: 2600... Loss: 1.5406... Val Loss: 1.5122\n",
      "Epoch: 19/20... Step: 2610... Loss: 1.5384... Val Loss: 1.5097\n",
      "Epoch: 19/20... Step: 2620... Loss: 1.5308... Val Loss: 1.5091\n",
      "Epoch: 19/20... Step: 2630... Loss: 1.5403... Val Loss: 1.5074\n",
      "Epoch: 19/20... Step: 2640... Loss: 1.5484... Val Loss: 1.5050\n",
      "Epoch: 20/20... Step: 2650... Loss: 1.5442... Val Loss: 1.5132\n"
     ]
    },
    {
     "name": "stdout",
     "output_type": "stream",
     "text": [
      "Epoch: 20/20... Step: 2660... Loss: 1.5459... Val Loss: 1.5099\n",
      "Epoch: 20/20... Step: 2670... Loss: 1.5564... Val Loss: 1.5009\n",
      "Epoch: 20/20... Step: 2680... Loss: 1.5464... Val Loss: 1.5027\n",
      "Epoch: 20/20... Step: 2690... Loss: 1.5284... Val Loss: 1.5003\n",
      "Epoch: 20/20... Step: 2700... Loss: 1.5467... Val Loss: 1.5016\n",
      "Epoch: 20/20... Step: 2710... Loss: 1.5225... Val Loss: 1.4999\n",
      "Epoch: 20/20... Step: 2720... Loss: 1.5338... Val Loss: 1.4993\n",
      "Epoch: 20/20... Step: 2730... Loss: 1.5114... Val Loss: 1.4988\n",
      "Epoch: 20/20... Step: 2740... Loss: 1.5089... Val Loss: 1.4968\n",
      "Epoch: 20/20... Step: 2750... Loss: 1.5221... Val Loss: 1.4965\n",
      "Epoch: 20/20... Step: 2760... Loss: 1.5143... Val Loss: 1.4974\n",
      "Epoch: 20/20... Step: 2770... Loss: 1.5479... Val Loss: 1.4953\n",
      "Epoch: 20/20... Step: 2780... Loss: 1.5552... Val Loss: 1.4927\n"
     ]
    }
   ],
   "source": [
    "batch_size = 128\n",
    "seq_length = 100\n",
    "n_epochs =  20 # start small if you are just testing initial behavior\n",
    "\n",
    "# train the model\n",
    "train(net, encoded, epochs=n_epochs, batch_size=batch_size, seq_length=seq_length, lr=0.001, print_every=10)"
   ]
  },
  {
   "cell_type": "markdown",
   "metadata": {},
   "source": [
    "## Getting the best model\n",
    "\n",
    "To set your hyperparameters to get the best performance, you'll want to watch the training and validation losses. If your training loss is much lower than the validation loss, you're overfitting. Increase regularization (more dropout) or use a smaller network. If the training and validation losses are close, you're underfitting so you can increase the size of the network."
   ]
  },
  {
   "cell_type": "markdown",
   "metadata": {},
   "source": [
    "## Hyperparameters\n",
    "\n",
    "Here are the hyperparameters for the network.\n",
    "\n",
    "In defining the model:\n",
    "* `n_hidden` - The number of units in the hidden layers.\n",
    "* `n_layers` - Number of hidden LSTM layers to use.\n",
    "\n",
    "We assume that dropout probability and learning rate will be kept at the default, in this example.\n",
    "\n",
    "And in training:\n",
    "* `batch_size` - Number of sequences running through the network in one pass.\n",
    "* `seq_length` - Number of characters in the sequence the network is trained on. Larger is better typically, the network will learn more long range dependencies. But it takes longer to train. 100 is typically a good number here.\n",
    "* `lr` - Learning rate for training\n",
    "\n",
    "Here's some good advice from Andrej Karpathy on training the network. I'm going to copy it in here for your benefit, but also link to [where it originally came from](https://github.com/karpathy/char-rnn#tips-and-tricks).\n",
    "\n",
    "> ## Tips and Tricks\n",
    "\n",
    ">### Monitoring Validation Loss vs. Training Loss\n",
    ">If you're somewhat new to Machine Learning or Neural Networks it can take a bit of expertise to get good models. The most important quantity to keep track of is the difference between your training loss (printed during training) and the validation loss (printed once in a while when the RNN is run on the validation data (by default every 1000 iterations)). In particular:\n",
    "\n",
    "> - If your training loss is much lower than validation loss then this means the network might be **overfitting**. Solutions to this are to decrease your network size, or to increase dropout. For example you could try dropout of 0.5 and so on.\n",
    "> - If your training/validation loss are about equal then your model is **underfitting**. Increase the size of your model (either number of layers or the raw number of neurons per layer)\n",
    "\n",
    "> ### Approximate number of parameters\n",
    "\n",
    "> The two most important parameters that control the model are `n_hidden` and `n_layers`. I would advise that you always use `n_layers` of either 2/3. The `n_hidden` can be adjusted based on how much data you have. The two important quantities to keep track of here are:\n",
    "\n",
    "> - The number of parameters in your model. This is printed when you start training.\n",
    "> - The size of your dataset. 1MB file is approximately 1 million characters.\n",
    "\n",
    ">These two should be about the same order of magnitude. It's a little tricky to tell. Here are some examples:\n",
    "\n",
    "> - I have a 100MB dataset and I'm using the default parameter settings (which currently print 150K parameters). My data size is significantly larger (100 mil >> 0.15 mil), so I expect to heavily underfit. I am thinking I can comfortably afford to make `n_hidden` larger.\n",
    "> - I have a 10MB dataset and running a 10 million parameter model. I'm slightly nervous and I'm carefully monitoring my validation loss. If it's larger than my training loss then I may want to try to increase dropout a bit and see if that helps the validation loss.\n",
    "\n",
    "> ### Best models strategy\n",
    "\n",
    ">The winning strategy to obtaining very good models (if you have the compute time) is to always err on making the network larger (as large as you're willing to wait for it to compute) and then try different dropout values (between 0,1). Whatever model has the best validation performance (the loss, written in the checkpoint filename, low is good) is the one you should use in the end.\n",
    "\n",
    ">It is very common in deep learning to run many different models with many different hyperparameter settings, and in the end take whatever checkpoint gave the best validation performance.\n",
    "\n",
    ">By the way, the size of your training and validation splits are also parameters. Make sure you have a decent amount of data in your validation set or otherwise the validation performance will be noisy and not very informative."
   ]
  },
  {
   "cell_type": "markdown",
   "metadata": {},
   "source": [
    "## Checkpoint\n",
    "\n",
    "After training, we'll save the model so we can load it again later if we need too. Here I'm saving the parameters needed to create the same architecture, the hidden layer hyperparameters and the text characters."
   ]
  },
  {
   "cell_type": "code",
   "execution_count": 18,
   "metadata": {},
   "outputs": [],
   "source": [
    "# change the name, for saving multiple files\n",
    "model_name = 'rnn_x_epoch.net'\n",
    "\n",
    "checkpoint = {'n_hidden': net.n_hidden,\n",
    "              'n_layers': net.n_layers,\n",
    "              'state_dict': net.state_dict(),\n",
    "              'tokens': net.chars}\n",
    "\n",
    "with open(model_name, 'wb') as f:\n",
    "    torch.save(checkpoint, f)"
   ]
  },
  {
   "cell_type": "markdown",
   "metadata": {},
   "source": [
    "---\n",
    "## Making Predictions\n",
    "\n",
    "Now that the model is trained, we'll want to sample from it and make predictions about next characters! To sample, we pass in a character and have the network predict the next character. Then we take that character, pass it back in, and get another predicted character. Just keep doing this and you'll generate a bunch of text!\n",
    "\n",
    "### A note on the `predict`  function\n",
    "\n",
    "The output of our RNN is from a fully-connected layer and it outputs a **distribution of next-character scores**.\n",
    "\n",
    "> To actually get the next character, we apply a softmax function, which gives us a *probability* distribution that we can then sample to predict the next character.\n",
    "\n",
    "### Top K sampling\n",
    "\n",
    "Our predictions come from a categorical probability distribution over all the possible characters. We can make the sample text and make it more reasonable to handle (with less variables) by only considering some $K$ most probable characters. This will prevent the network from giving us completely absurd characters while allowing it to introduce some noise and randomness into the sampled text. Read more about [topk, here](https://pytorch.org/docs/stable/torch.html#torch.topk).\n"
   ]
  },
  {
   "cell_type": "code",
   "execution_count": 19,
   "metadata": {},
   "outputs": [],
   "source": [
    "def predict(net, char, h=None, top_k=None):\n",
    "        ''' Given a character, predict the next character.\n",
    "            Returns the predicted character and the hidden state.\n",
    "        '''\n",
    "        \n",
    "        # tensor inputs\n",
    "        x = np.array([[net.char2int[char]]])\n",
    "        x = one_hot_encode(x, len(net.chars))\n",
    "        inputs = torch.from_numpy(x)\n",
    "        \n",
    "        if(train_on_gpu):\n",
    "            inputs = inputs.cuda()\n",
    "        \n",
    "        # detach hidden state from history\n",
    "        h = tuple([each.data for each in h])\n",
    "        # get the output of the model\n",
    "        out, h = net(inputs, h)\n",
    "\n",
    "        # get the character probabilities\n",
    "        p = F.softmax(out, dim=1).data\n",
    "        if(train_on_gpu):\n",
    "            p = p.cpu() # move to cpu\n",
    "        \n",
    "        # get top characters\n",
    "        if top_k is None:\n",
    "            top_ch = np.arange(len(net.chars))\n",
    "        else:\n",
    "            p, top_ch = p.topk(top_k)\n",
    "            top_ch = top_ch.numpy().squeeze()\n",
    "        \n",
    "        # select the likely next character with some element of randomness\n",
    "        p = p.numpy().squeeze()\n",
    "        char = np.random.choice(top_ch, p=p/p.sum())\n",
    "        \n",
    "        # return the encoded value of the predicted char and the hidden state\n",
    "        return net.int2char[char], h"
   ]
  },
  {
   "cell_type": "markdown",
   "metadata": {},
   "source": [
    "### Priming and generating text \n",
    "\n",
    "Typically you'll want to prime the network so you can build up a hidden state. Otherwise the network will start out generating characters at random. In general the first bunch of characters will be a little rough since it hasn't built up a long history of characters to predict from."
   ]
  },
  {
   "cell_type": "code",
   "execution_count": 20,
   "metadata": {},
   "outputs": [],
   "source": [
    "def sample(net, size, prime='The', top_k=None):\n",
    "        \n",
    "    if(train_on_gpu):\n",
    "        net.cuda()\n",
    "    else:\n",
    "        net.cpu()\n",
    "    \n",
    "    net.eval() # eval mode\n",
    "    \n",
    "    # First off, run through the prime characters\n",
    "    chars = [ch for ch in prime]\n",
    "    h = net.init_hidden(1)\n",
    "    for ch in prime:\n",
    "        char, h = predict(net, ch, h, top_k=top_k)\n",
    "\n",
    "    chars.append(char)\n",
    "    \n",
    "    # Now pass in the previous character and get a new one\n",
    "    for ii in range(size):\n",
    "        char, h = predict(net, chars[-1], h, top_k=top_k)\n",
    "        chars.append(char)\n",
    "\n",
    "    return ''.join(chars)"
   ]
  },
  {
   "cell_type": "code",
   "execution_count": 21,
   "metadata": {},
   "outputs": [
    {
     "name": "stdout",
     "output_type": "stream",
     "text": [
      "Anna and the contune to his complating and the care of her a sond of the partion, who was sidened to any anster with that to a soll the moring and side had been as this\n",
      "sould and at in his brome his sone. The missiders and went how a membels, he was to her shile what how was a creasing and a manter and\n",
      "sat to astels a something.\n",
      "\n",
      "\"Well, I could take you, when she had this the strein to the fins than a luttre talk, I did not see the metting to the\n",
      "same of tire that you hove a cannating of sorisher, and a casing a forget to his matter, and wo learth the compose intares.\"\n",
      "\n",
      "\"Oh, thing on it was.\"\n",
      "\n",
      "\"Oh, thit's not an insatesticed at the constract, at the count of her to the cormors.\"\n",
      "\n",
      "\"Well, still sently this officer over hinds, and I shall me\n",
      "thought at a court in this\n",
      "sail an one to be she saw a same an to think were is seeded the\n",
      "cruchs, but she went to be she thinking in the simple and happiness of all\n",
      "sect her sound and his carnian of his\n",
      "sick of tendere, thener to answer to be something to\n"
     ]
    }
   ],
   "source": [
    "print(sample(net, 1000, prime='Anna', top_k=5))"
   ]
  },
  {
   "cell_type": "markdown",
   "metadata": {},
   "source": [
    "## Loading a checkpoint"
   ]
  },
  {
   "cell_type": "code",
   "execution_count": 22,
   "metadata": {},
   "outputs": [
    {
     "data": {
      "text/plain": [
       "<All keys matched successfully>"
      ]
     },
     "execution_count": 22,
     "metadata": {},
     "output_type": "execute_result"
    }
   ],
   "source": [
    "# Here we have loaded in a model that trained over 20 epochs `rnn_20_epoch.net`\n",
    "with open('rnn_x_epoch.net', 'rb') as f:\n",
    "    checkpoint = torch.load(f)\n",
    "    \n",
    "loaded = CharRNN(checkpoint['tokens'], n_hidden=checkpoint['n_hidden'], n_layers=checkpoint['n_layers'])\n",
    "loaded.load_state_dict(checkpoint['state_dict'])"
   ]
  },
  {
   "cell_type": "code",
   "execution_count": 23,
   "metadata": {},
   "outputs": [
    {
     "name": "stdout",
     "output_type": "stream",
     "text": [
      "And Levin said it was to\n",
      "her brother. Have, and a step of a tell, to the simple of the sole.\n",
      "\n",
      "\"That?\" he said, sersion of his stace he thought\n",
      "the cannoom as\n",
      "she seemed to the porces to him. She had been her\n",
      "a look went that his feet of the still said he could to bark. She said\n",
      "his brother were at a moss say that he shall wime, and he troid out. And the since had think to him. And was\n",
      "now to days in the familing and helpous, the croan, as she was a compryseirs was thought that so to her she took the part of the count that, and she said that he said her as as the pacticoled the fashion that it was\n",
      "sick the\n",
      "catrant the secest of his son in her firied with herself whos had been an one about the princess of the metting to the face and he took to see the cearal and hands, he\n",
      "had not sime himself of the position.\n",
      "\n",
      "\"I'm not his have\n",
      "moment. I'm been took.\"\n",
      "\n",
      "As the\n",
      "soristing. Sunder to his stones to his hands was surpled and he wasted in his fore, as always and hosting on shile and said in his strigg with went a carriage\n",
      "with a living of\n",
      "took. And the chingeds. \"I shall me sen them.\"\n",
      "\n",
      "Alexey Alexandrovitch, and was sides of his bork of his heard with sead at the hoor,\n",
      "and whether he who careed a cap horself of his beginned to her.\n",
      "\n",
      "\"You\n",
      "know in you,\" he said and the sound, as, and so all on home, wat the\n",
      "farely over the face, and we had but him on\n",
      "his hone to them, what the chuck of the without with him, but he had asked his hands, were that\n",
      "the morredsens, and with her horders had as\n",
      "its. He starding,\n",
      "and she had never head his complearical of the mores answered his hores the chears was at\n",
      "a constariate that what the country had\n",
      "askanged to the might. Think and he say with her. She would have seem,\n",
      "and a man.\n",
      "\n",
      "\n",
      "\n",
      "Chapter 12\n",
      "\n",
      "\n",
      "\"I\n",
      "has a leass which has happicel this way, and an the commine of seal and angry in the\n",
      "might the consceres almest and some of a call a some of a sont fremeres of the man where\n",
      "the servanicyss of the feeling.\"\n",
      "\n",
      "\"You know,\" said Speazhsky taking his brother thenest ha\n"
     ]
    }
   ],
   "source": [
    "# Sample using a loaded model\n",
    "print(sample(loaded, 2000, top_k=5, prime=\"And Levin said\"))"
   ]
  },
  {
   "cell_type": "code",
   "execution_count": null,
   "metadata": {
    "collapsed": true
   },
   "outputs": [],
   "source": []
  }
 ],
 "metadata": {
  "kernelspec": {
   "display_name": "Python 3",
   "language": "python",
   "name": "python3"
  },
  "language_info": {
   "codemirror_mode": {
    "name": "ipython",
    "version": 3
   },
   "file_extension": ".py",
   "mimetype": "text/x-python",
   "name": "python",
   "nbconvert_exporter": "python",
   "pygments_lexer": "ipython3",
   "version": "3.6.9"
  }
 },
 "nbformat": 4,
 "nbformat_minor": 2
}
